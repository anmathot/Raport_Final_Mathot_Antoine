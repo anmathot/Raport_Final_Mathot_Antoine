{
 "cells": [
  {
   "cell_type": "markdown",
   "id": "d5116c37",
   "metadata": {},
   "source": [
    "# Modélisation des systèmes biologiques"
   ]
  },
  {
   "cell_type": "markdown",
   "id": "37d57251",
   "metadata": {},
   "source": [
    "Auteurs du rapport. Voir les consignes concernant les co-auteurs"
   ]
  },
  {
   "cell_type": "markdown",
   "id": "fefe7c53",
   "metadata": {},
   "source": [
    "Vous pouvez choisir d'employer ce document pour votre rapport final, si vous decider de le faire en Python\n"
   ]
  },
  {
   "cell_type": "markdown",
   "id": "f0179511",
   "metadata": {},
   "source": [
    "## Résumé"
   ]
  },
  {
   "cell_type": "markdown",
   "id": "bbdbe09f",
   "metadata": {},
   "source": [
    "> Résumé du travail, reprenant les résultats principaux et les perspectives. \n",
    "\n",
    "Lorem ipsum dolor sit amet, consectetur adipiscing elit, sed do eiusmod tempor incididunt ut labore et dolore magna aliqua. Ut enim ad minim veniam, quis nostrud exercitation ullamco laboris nisi ut aliquip ex ea commodo consequat. Duis aute irure dolor in reprehenderit in voluptate velit esse cillum dolore eu fugiat nulla pariatur. Excepteur sint occaecat cupidatat non proident, sunt in culpa qui officia deserunt mollit anim id est laborum."
   ]
  },
  {
   "cell_type": "markdown",
   "id": "4f74504e",
   "metadata": {},
   "source": [
    "## Introduction"
   ]
  },
  {
   "cell_type": "markdown",
   "id": "2171aa77",
   "metadata": {},
   "source": [
    "> Description du problème, de l'état de lart sur le sujet, de l'importance de l'approche par modélisation\n",
    "\n",
    "Lorem ipsum dolor sit amet, consectetur adipiscing elit, sed do eiusmod tempor incididunt ut labore et dolore magna aliqua. Ut enim ad minim veniam, quis nostrud exercitation ullamco laboris nisi ut aliquip ex ea commodo consequat. Duis aute irure dolor in reprehenderit in voluptate velit esse cillum dolore eu fugiat nulla pariatur. Excepteur sint occaecat cupidatat non proident, sunt in culpa qui officia deserunt mollit anim id est laborum."
   ]
  },
  {
   "cell_type": "markdown",
   "id": "8efe267a",
   "metadata": {},
   "source": [
    "## Matériel et méthodes"
   ]
  },
  {
   "cell_type": "markdown",
   "id": "f4739b2a",
   "metadata": {},
   "source": [
    "> Courte description des modèles utilisé, description du schéma de modélisation, description des packages employés et des méthodes d'analyse choisies\n",
    "\n",
    "Lorem ipsum dolor sit amet, consectetur adipiscing elit, sed do eiusmod tempor incididunt ut labore et dolore magna aliqua. Ut enim ad minim veniam, quis nostrud exercitation ullamco laboris nisi ut aliquip ex ea commodo consequat. Duis aute irure dolor in reprehenderit in voluptate velit esse cillum dolore eu fugiat nulla pariatur. Excepteur sint occaecat cupidatat non proident, sunt in culpa qui officia deserunt mollit anim id est laborum."
   ]
  },
  {
   "cell_type": "markdown",
   "id": "5986f87a",
   "metadata": {},
   "source": [
    "## Résultats"
   ]
  },
  {
   "cell_type": "markdown",
   "id": "10288ecf",
   "metadata": {},
   "source": [
    "> Présentation des resultats des simulations"
   ]
  },
  {
   "cell_type": "markdown",
   "id": "a61b7769",
   "metadata": {},
   "source": [
    "### Modélisation de l’architecture racinaire"
   ]
  },
  {
   "cell_type": "markdown",
   "id": "55493a1d",
   "metadata": {},
   "source": [
    "Lorem ipsum dolor sit amet, consectetur adipiscing elit, sed do eiusmod tempor incididunt ut labore et dolore magna aliqua. Ut enim ad minim veniam, quis nostrud exercitation ullamco laboris nisi ut aliquip ex ea commodo consequat. Duis aute irure dolor in reprehenderit in voluptate velit esse cillum dolore eu fugiat nulla pariatur. Excepteur sint occaecat cupidatat non proident, sunt in culpa qui officia deserunt mollit anim id est laborum."
   ]
  },
  {
   "cell_type": "markdown",
   "id": "1cd2582d",
   "metadata": {},
   "source": [
    "### Modélisation de l’anatomie racinaire"
   ]
  },
  {
   "cell_type": "markdown",
   "id": "e5c4a848",
   "metadata": {},
   "source": [
    "Lorem ipsum dolor sit amet, consectetur adipiscing elit, sed do eiusmod tempor incididunt ut labore et dolore magna aliqua. Ut enim ad minim veniam, quis nostrud exercitation ullamco laboris nisi ut aliquip ex ea commodo consequat. Duis aute irure dolor in reprehenderit in voluptate velit esse cillum dolore eu fugiat nulla pariatur. Excepteur sint occaecat cupidatat non proident, sunt in culpa qui officia deserunt mollit anim id est laborum."
   ]
  },
  {
   "cell_type": "markdown",
   "id": "35185f03",
   "metadata": {},
   "source": [
    "### Modélisation de l’évolution de la culture"
   ]
  },
  {
   "cell_type": "markdown",
   "id": "a130c863",
   "metadata": {},
   "source": [
    "Lorem ipsum dolor sit amet, consectetur adipiscing elit, sed do eiusmod tempor incididunt ut labore et dolore magna aliqua. Ut enim ad minim veniam, quis nostrud exercitation ullamco laboris nisi ut aliquip ex ea commodo consequat. Duis aute irure dolor in reprehenderit in voluptate velit esse cillum dolore eu fugiat nulla pariatur. Excepteur sint occaecat cupidatat non proident, sunt in culpa qui officia deserunt mollit anim id est laborum."
   ]
  },
  {
   "cell_type": "markdown",
   "id": "cc271240",
   "metadata": {},
   "source": [
    "### Couplage entre le modèle racinaire et le modèle de culture"
   ]
  },
  {
   "cell_type": "markdown",
   "id": "86d2716d",
   "metadata": {},
   "source": [
    "Lorem ipsum dolor sit amet, consectetur adipiscing elit, sed do eiusmod tempor incididunt ut labore et dolore magna aliqua. Ut enim ad minim veniam, quis nostrud exercitation ullamco laboris nisi ut aliquip ex ea commodo consequat. Duis aute irure dolor in reprehenderit in voluptate velit esse cillum dolore eu fugiat nulla pariatur. Excepteur sint occaecat cupidatat non proident, sunt in culpa qui officia deserunt mollit anim id est laborum."
   ]
  },
  {
   "cell_type": "markdown",
   "id": "8e2ebbe8",
   "metadata": {},
   "source": [
    "### Analyse de l’interaction entre rendements et racines"
   ]
  },
  {
   "cell_type": "markdown",
   "id": "0f9cf47c",
   "metadata": {},
   "source": [
    "Lorem ipsum dolor sit amet, consectetur adipiscing elit, sed do eiusmod tempor incididunt ut labore et dolore magna aliqua. Ut enim ad minim veniam, quis nostrud exercitation ullamco laboris nisi ut aliquip ex ea commodo consequat. Duis aute irure dolor in reprehenderit in voluptate velit esse cillum dolore eu fugiat nulla pariatur. Excepteur sint occaecat cupidatat non proident, sunt in culpa qui officia deserunt mollit anim id est laborum."
   ]
  },
  {
   "cell_type": "markdown",
   "id": "c44f03bb",
   "metadata": {},
   "source": [
    "## Contributions des auteurs"
   ]
  },
  {
   "cell_type": "markdown",
   "id": "467cd7fd",
   "metadata": {},
   "source": [
    "Description de la contribution des différents auteurs du rapport. Voir les consignes pour plus de détail. "
   ]
  }
 ],
 "metadata": {
  "kernelspec": {
   "display_name": "Python 3 (ipykernel)",
   "language": "python",
   "name": "python3"
  },
  "language_info": {
   "codemirror_mode": {
    "name": "ipython",
    "version": 3
   },
   "file_extension": ".py",
   "mimetype": "text/x-python",
   "name": "python",
   "nbconvert_exporter": "python",
   "pygments_lexer": "ipython3",
   "version": "3.9.12"
  }
 },
 "nbformat": 4,
 "nbformat_minor": 5
}
